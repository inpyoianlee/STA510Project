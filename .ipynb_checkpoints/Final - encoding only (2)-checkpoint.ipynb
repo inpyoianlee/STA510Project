{
 "cells": [
  {
   "cell_type": "markdown",
   "id": "a1744c9d",
   "metadata": {},
   "source": [
    "# 510 Final Project"
   ]
  },
  {
   "cell_type": "markdown",
   "id": "6516d908",
   "metadata": {},
   "source": [
    "## packages"
   ]
  },
  {
   "cell_type": "code",
   "execution_count": 440,
   "id": "a78f9f2e",
   "metadata": {
    "scrolled": true
   },
   "outputs": [],
   "source": [
    "import pandas as pd\n",
    "from sklearn.model_selection import train_test_split\n",
    "# from sklearn.preprocessing import StandardScaler\n",
    "\n",
    "import statsmodels.api as sm\n",
    "import matplotlib.pyplot as plt\n",
    "import seaborn as sns\n",
    "import numpy as np\n",
    "\n",
    "from sklearn.linear_model import LinearRegression, Lasso, Ridge, LassoCV, RidgeCV, LogisticRegression, LogisticRegressionCV\n",
    "from sklearn.preprocessing import PolynomialFeatures\n",
    "from sklearn.metrics import mean_absolute_error, r2_score\n",
    "from sklearn.ensemble import RandomForestRegressor"
   ]
  },
  {
   "cell_type": "markdown",
   "id": "40751464",
   "metadata": {},
   "source": [
    "## flight take-off data - JFK airport "
   ]
  },
  {
   "cell_type": "markdown",
   "id": "401a6d99",
   "metadata": {},
   "source": [
    "**read data**"
   ]
  },
  {
   "cell_type": "code",
   "execution_count": 441,
   "id": "6bc94381",
   "metadata": {},
   "outputs": [
    {
     "data": {
      "text/html": [
       "<div>\n",
       "<style scoped>\n",
       "    .dataframe tbody tr th:only-of-type {\n",
       "        vertical-align: middle;\n",
       "    }\n",
       "\n",
       "    .dataframe tbody tr th {\n",
       "        vertical-align: top;\n",
       "    }\n",
       "\n",
       "    .dataframe thead th {\n",
       "        text-align: right;\n",
       "    }\n",
       "</style>\n",
       "<table border=\"1\" class=\"dataframe\">\n",
       "  <thead>\n",
       "    <tr style=\"text-align: right;\">\n",
       "      <th></th>\n",
       "      <th>MONTH</th>\n",
       "      <th>DAY_OF_MONTH</th>\n",
       "      <th>DAY_OF_WEEK</th>\n",
       "      <th>OP_UNIQUE_CARRIER</th>\n",
       "      <th>TAIL_NUM</th>\n",
       "      <th>DEST</th>\n",
       "      <th>DEP_DELAY</th>\n",
       "      <th>CRS_ELAPSED_TIME</th>\n",
       "      <th>DISTANCE</th>\n",
       "      <th>CRS_DEP_M</th>\n",
       "      <th>...</th>\n",
       "      <th>Dew Point</th>\n",
       "      <th>Humidity</th>\n",
       "      <th>Wind</th>\n",
       "      <th>Wind Speed</th>\n",
       "      <th>Wind Gust</th>\n",
       "      <th>Pressure</th>\n",
       "      <th>Condition</th>\n",
       "      <th>sch_dep</th>\n",
       "      <th>sch_arr</th>\n",
       "      <th>TAXI_OUT</th>\n",
       "    </tr>\n",
       "  </thead>\n",
       "  <tbody>\n",
       "    <tr>\n",
       "      <th>0</th>\n",
       "      <td>11</td>\n",
       "      <td>1</td>\n",
       "      <td>5</td>\n",
       "      <td>B6</td>\n",
       "      <td>N828JB</td>\n",
       "      <td>CHS</td>\n",
       "      <td>-1</td>\n",
       "      <td>124</td>\n",
       "      <td>636</td>\n",
       "      <td>324</td>\n",
       "      <td>...</td>\n",
       "      <td>34</td>\n",
       "      <td>58</td>\n",
       "      <td>W</td>\n",
       "      <td>25</td>\n",
       "      <td>38</td>\n",
       "      <td>29.86</td>\n",
       "      <td>Fair / Windy</td>\n",
       "      <td>9</td>\n",
       "      <td>17</td>\n",
       "      <td>14</td>\n",
       "    </tr>\n",
       "    <tr>\n",
       "      <th>1</th>\n",
       "      <td>11</td>\n",
       "      <td>1</td>\n",
       "      <td>5</td>\n",
       "      <td>B6</td>\n",
       "      <td>N992JB</td>\n",
       "      <td>LAX</td>\n",
       "      <td>-7</td>\n",
       "      <td>371</td>\n",
       "      <td>2475</td>\n",
       "      <td>340</td>\n",
       "      <td>...</td>\n",
       "      <td>34</td>\n",
       "      <td>58</td>\n",
       "      <td>W</td>\n",
       "      <td>25</td>\n",
       "      <td>38</td>\n",
       "      <td>29.86</td>\n",
       "      <td>Fair / Windy</td>\n",
       "      <td>9</td>\n",
       "      <td>17</td>\n",
       "      <td>15</td>\n",
       "    </tr>\n",
       "    <tr>\n",
       "      <th>2</th>\n",
       "      <td>11</td>\n",
       "      <td>1</td>\n",
       "      <td>5</td>\n",
       "      <td>B6</td>\n",
       "      <td>N959JB</td>\n",
       "      <td>FLL</td>\n",
       "      <td>40</td>\n",
       "      <td>181</td>\n",
       "      <td>1069</td>\n",
       "      <td>301</td>\n",
       "      <td>...</td>\n",
       "      <td>34</td>\n",
       "      <td>58</td>\n",
       "      <td>W</td>\n",
       "      <td>25</td>\n",
       "      <td>38</td>\n",
       "      <td>29.86</td>\n",
       "      <td>Fair / Windy</td>\n",
       "      <td>9</td>\n",
       "      <td>17</td>\n",
       "      <td>22</td>\n",
       "    </tr>\n",
       "    <tr>\n",
       "      <th>3</th>\n",
       "      <td>11</td>\n",
       "      <td>1</td>\n",
       "      <td>5</td>\n",
       "      <td>B6</td>\n",
       "      <td>N999JQ</td>\n",
       "      <td>MCO</td>\n",
       "      <td>-2</td>\n",
       "      <td>168</td>\n",
       "      <td>944</td>\n",
       "      <td>345</td>\n",
       "      <td>...</td>\n",
       "      <td>34</td>\n",
       "      <td>58</td>\n",
       "      <td>W</td>\n",
       "      <td>25</td>\n",
       "      <td>38</td>\n",
       "      <td>29.86</td>\n",
       "      <td>Fair / Windy</td>\n",
       "      <td>9</td>\n",
       "      <td>17</td>\n",
       "      <td>12</td>\n",
       "    </tr>\n",
       "    <tr>\n",
       "      <th>4</th>\n",
       "      <td>11</td>\n",
       "      <td>1</td>\n",
       "      <td>5</td>\n",
       "      <td>DL</td>\n",
       "      <td>N880DN</td>\n",
       "      <td>ATL</td>\n",
       "      <td>-4</td>\n",
       "      <td>139</td>\n",
       "      <td>760</td>\n",
       "      <td>360</td>\n",
       "      <td>...</td>\n",
       "      <td>32</td>\n",
       "      <td>58</td>\n",
       "      <td>W</td>\n",
       "      <td>24</td>\n",
       "      <td>35</td>\n",
       "      <td>29.91</td>\n",
       "      <td>Fair / Windy</td>\n",
       "      <td>9</td>\n",
       "      <td>17</td>\n",
       "      <td>13</td>\n",
       "    </tr>\n",
       "    <tr>\n",
       "      <th>...</th>\n",
       "      <td>...</td>\n",
       "      <td>...</td>\n",
       "      <td>...</td>\n",
       "      <td>...</td>\n",
       "      <td>...</td>\n",
       "      <td>...</td>\n",
       "      <td>...</td>\n",
       "      <td>...</td>\n",
       "      <td>...</td>\n",
       "      <td>...</td>\n",
       "      <td>...</td>\n",
       "      <td>...</td>\n",
       "      <td>...</td>\n",
       "      <td>...</td>\n",
       "      <td>...</td>\n",
       "      <td>...</td>\n",
       "      <td>...</td>\n",
       "      <td>...</td>\n",
       "      <td>...</td>\n",
       "      <td>...</td>\n",
       "      <td>...</td>\n",
       "    </tr>\n",
       "    <tr>\n",
       "      <th>28815</th>\n",
       "      <td>1</td>\n",
       "      <td>31</td>\n",
       "      <td>5</td>\n",
       "      <td>B6</td>\n",
       "      <td>N216JB</td>\n",
       "      <td>ORH</td>\n",
       "      <td>2</td>\n",
       "      <td>57</td>\n",
       "      <td>150</td>\n",
       "      <td>1370</td>\n",
       "      <td>...</td>\n",
       "      <td>38</td>\n",
       "      <td>96</td>\n",
       "      <td>N</td>\n",
       "      <td>6</td>\n",
       "      <td>0</td>\n",
       "      <td>30.18</td>\n",
       "      <td>Cloudy</td>\n",
       "      <td>20</td>\n",
       "      <td>32</td>\n",
       "      <td>19</td>\n",
       "    </tr>\n",
       "    <tr>\n",
       "      <th>28816</th>\n",
       "      <td>1</td>\n",
       "      <td>31</td>\n",
       "      <td>5</td>\n",
       "      <td>AA</td>\n",
       "      <td>N104NN</td>\n",
       "      <td>BOS</td>\n",
       "      <td>2</td>\n",
       "      <td>75</td>\n",
       "      <td>187</td>\n",
       "      <td>1390</td>\n",
       "      <td>...</td>\n",
       "      <td>38</td>\n",
       "      <td>96</td>\n",
       "      <td>N</td>\n",
       "      <td>6</td>\n",
       "      <td>0</td>\n",
       "      <td>30.18</td>\n",
       "      <td>Cloudy</td>\n",
       "      <td>19</td>\n",
       "      <td>23</td>\n",
       "      <td>22</td>\n",
       "    </tr>\n",
       "    <tr>\n",
       "      <th>28817</th>\n",
       "      <td>1</td>\n",
       "      <td>31</td>\n",
       "      <td>5</td>\n",
       "      <td>AS</td>\n",
       "      <td>N581AS</td>\n",
       "      <td>SEA</td>\n",
       "      <td>283</td>\n",
       "      <td>392</td>\n",
       "      <td>2422</td>\n",
       "      <td>1125</td>\n",
       "      <td>...</td>\n",
       "      <td>38</td>\n",
       "      <td>96</td>\n",
       "      <td>N</td>\n",
       "      <td>6</td>\n",
       "      <td>0</td>\n",
       "      <td>30.18</td>\n",
       "      <td>Cloudy</td>\n",
       "      <td>19</td>\n",
       "      <td>23</td>\n",
       "      <td>21</td>\n",
       "    </tr>\n",
       "    <tr>\n",
       "      <th>28818</th>\n",
       "      <td>1</td>\n",
       "      <td>31</td>\n",
       "      <td>5</td>\n",
       "      <td>B6</td>\n",
       "      <td>N957JB</td>\n",
       "      <td>SJU</td>\n",
       "      <td>5</td>\n",
       "      <td>224</td>\n",
       "      <td>1598</td>\n",
       "      <td>1417</td>\n",
       "      <td>...</td>\n",
       "      <td>38</td>\n",
       "      <td>96</td>\n",
       "      <td>N</td>\n",
       "      <td>6</td>\n",
       "      <td>0</td>\n",
       "      <td>30.18</td>\n",
       "      <td>Cloudy</td>\n",
       "      <td>19</td>\n",
       "      <td>23</td>\n",
       "      <td>13</td>\n",
       "    </tr>\n",
       "    <tr>\n",
       "      <th>28819</th>\n",
       "      <td>1</td>\n",
       "      <td>31</td>\n",
       "      <td>5</td>\n",
       "      <td>B6</td>\n",
       "      <td>N958JB</td>\n",
       "      <td>BQN</td>\n",
       "      <td>-1</td>\n",
       "      <td>225</td>\n",
       "      <td>1576</td>\n",
       "      <td>1439</td>\n",
       "      <td>...</td>\n",
       "      <td>38</td>\n",
       "      <td>96</td>\n",
       "      <td>N</td>\n",
       "      <td>6</td>\n",
       "      <td>0</td>\n",
       "      <td>30.18</td>\n",
       "      <td>Cloudy</td>\n",
       "      <td>19</td>\n",
       "      <td>23</td>\n",
       "      <td>15</td>\n",
       "    </tr>\n",
       "  </tbody>\n",
       "</table>\n",
       "<p>28820 rows × 23 columns</p>\n",
       "</div>"
      ],
      "text/plain": [
       "       MONTH  DAY_OF_MONTH  DAY_OF_WEEK OP_UNIQUE_CARRIER TAIL_NUM DEST  \\\n",
       "0         11             1            5                B6   N828JB  CHS   \n",
       "1         11             1            5                B6   N992JB  LAX   \n",
       "2         11             1            5                B6   N959JB  FLL   \n",
       "3         11             1            5                B6   N999JQ  MCO   \n",
       "4         11             1            5                DL   N880DN  ATL   \n",
       "...      ...           ...          ...               ...      ...  ...   \n",
       "28815      1            31            5                B6   N216JB  ORH   \n",
       "28816      1            31            5                AA   N104NN  BOS   \n",
       "28817      1            31            5                AS   N581AS  SEA   \n",
       "28818      1            31            5                B6   N957JB  SJU   \n",
       "28819      1            31            5                B6   N958JB  BQN   \n",
       "\n",
       "       DEP_DELAY  CRS_ELAPSED_TIME  DISTANCE  CRS_DEP_M  ...  Dew Point  \\\n",
       "0             -1               124       636        324  ...         34   \n",
       "1             -7               371      2475        340  ...         34   \n",
       "2             40               181      1069        301  ...         34   \n",
       "3             -2               168       944        345  ...         34   \n",
       "4             -4               139       760        360  ...         32   \n",
       "...          ...               ...       ...        ...  ...        ...   \n",
       "28815          2                57       150       1370  ...         38   \n",
       "28816          2                75       187       1390  ...         38   \n",
       "28817        283               392      2422       1125  ...         38   \n",
       "28818          5               224      1598       1417  ...         38   \n",
       "28819         -1               225      1576       1439  ...         38   \n",
       "\n",
       "       Humidity  Wind Wind Speed  Wind Gust Pressure     Condition  sch_dep  \\\n",
       "0            58     W         25         38    29.86  Fair / Windy        9   \n",
       "1            58     W         25         38    29.86  Fair / Windy        9   \n",
       "2            58     W         25         38    29.86  Fair / Windy        9   \n",
       "3            58     W         25         38    29.86  Fair / Windy        9   \n",
       "4            58     W         24         35    29.91  Fair / Windy        9   \n",
       "...         ...   ...        ...        ...      ...           ...      ...   \n",
       "28815        96     N          6          0    30.18        Cloudy       20   \n",
       "28816        96     N          6          0    30.18        Cloudy       19   \n",
       "28817        96     N          6          0    30.18        Cloudy       19   \n",
       "28818        96     N          6          0    30.18        Cloudy       19   \n",
       "28819        96     N          6          0    30.18        Cloudy       19   \n",
       "\n",
       "       sch_arr TAXI_OUT  \n",
       "0           17       14  \n",
       "1           17       15  \n",
       "2           17       22  \n",
       "3           17       12  \n",
       "4           17       13  \n",
       "...        ...      ...  \n",
       "28815       32       19  \n",
       "28816       23       22  \n",
       "28817       23       21  \n",
       "28818       23       13  \n",
       "28819       23       15  \n",
       "\n",
       "[28820 rows x 23 columns]"
      ]
     },
     "execution_count": 441,
     "metadata": {},
     "output_type": "execute_result"
    }
   ],
   "source": [
    "data = pd.read_csv(\"C:/Users/bonni/Documents/510/M1_final.csv\")\n",
    "data"
   ]
  },
  {
   "cell_type": "markdown",
   "id": "e8c596c9",
   "metadata": {},
   "source": [
    "## descriptive statistics"
   ]
  },
  {
   "cell_type": "code",
   "execution_count": 442,
   "id": "7bd08a39",
   "metadata": {},
   "outputs": [
    {
     "data": {
      "text/html": [
       "<div>\n",
       "<style scoped>\n",
       "    .dataframe tbody tr th:only-of-type {\n",
       "        vertical-align: middle;\n",
       "    }\n",
       "\n",
       "    .dataframe tbody tr th {\n",
       "        vertical-align: top;\n",
       "    }\n",
       "\n",
       "    .dataframe thead th {\n",
       "        text-align: right;\n",
       "    }\n",
       "</style>\n",
       "<table border=\"1\" class=\"dataframe\">\n",
       "  <thead>\n",
       "    <tr style=\"text-align: right;\">\n",
       "      <th></th>\n",
       "      <th>MONTH</th>\n",
       "      <th>DAY_OF_MONTH</th>\n",
       "      <th>DAY_OF_WEEK</th>\n",
       "      <th>DEP_DELAY</th>\n",
       "      <th>CRS_ELAPSED_TIME</th>\n",
       "      <th>DISTANCE</th>\n",
       "      <th>CRS_DEP_M</th>\n",
       "      <th>DEP_TIME_M</th>\n",
       "      <th>CRS_ARR_M</th>\n",
       "      <th>Temperature</th>\n",
       "      <th>Humidity</th>\n",
       "      <th>Wind Speed</th>\n",
       "      <th>Wind Gust</th>\n",
       "      <th>Pressure</th>\n",
       "      <th>sch_dep</th>\n",
       "      <th>sch_arr</th>\n",
       "      <th>TAXI_OUT</th>\n",
       "    </tr>\n",
       "  </thead>\n",
       "  <tbody>\n",
       "    <tr>\n",
       "      <th>count</th>\n",
       "      <td>28820.000000</td>\n",
       "      <td>28820.000000</td>\n",
       "      <td>28820.000000</td>\n",
       "      <td>28820.000000</td>\n",
       "      <td>28820.000000</td>\n",
       "      <td>28820.000000</td>\n",
       "      <td>28820.000000</td>\n",
       "      <td>28820.000000</td>\n",
       "      <td>28820.000000</td>\n",
       "      <td>28820.000000</td>\n",
       "      <td>28820.000000</td>\n",
       "      <td>28820.000000</td>\n",
       "      <td>28820.000000</td>\n",
       "      <td>28820.000000</td>\n",
       "      <td>28820.000000</td>\n",
       "      <td>28820.000000</td>\n",
       "      <td>28820.000000</td>\n",
       "    </tr>\n",
       "    <tr>\n",
       "      <th>mean</th>\n",
       "      <td>7.894240</td>\n",
       "      <td>16.021096</td>\n",
       "      <td>4.008952</td>\n",
       "      <td>6.374983</td>\n",
       "      <td>225.288203</td>\n",
       "      <td>1267.746079</td>\n",
       "      <td>831.003851</td>\n",
       "      <td>828.934698</td>\n",
       "      <td>910.874289</td>\n",
       "      <td>41.489833</td>\n",
       "      <td>57.732616</td>\n",
       "      <td>12.367627</td>\n",
       "      <td>5.535323</td>\n",
       "      <td>30.092433</td>\n",
       "      <td>31.091256</td>\n",
       "      <td>28.432130</td>\n",
       "      <td>20.858570</td>\n",
       "    </tr>\n",
       "    <tr>\n",
       "      <th>std</th>\n",
       "      <td>4.991723</td>\n",
       "      <td>8.750179</td>\n",
       "      <td>1.985230</td>\n",
       "      <td>38.735144</td>\n",
       "      <td>119.482417</td>\n",
       "      <td>889.343246</td>\n",
       "      <td>299.398525</td>\n",
       "      <td>305.864103</td>\n",
       "      <td>345.411743</td>\n",
       "      <td>8.043533</td>\n",
       "      <td>23.468676</td>\n",
       "      <td>6.259298</td>\n",
       "      <td>11.886457</td>\n",
       "      <td>0.296160</td>\n",
       "      <td>9.510359</td>\n",
       "      <td>8.263043</td>\n",
       "      <td>6.851915</td>\n",
       "    </tr>\n",
       "    <tr>\n",
       "      <th>min</th>\n",
       "      <td>1.000000</td>\n",
       "      <td>1.000000</td>\n",
       "      <td>1.000000</td>\n",
       "      <td>-22.000000</td>\n",
       "      <td>57.000000</td>\n",
       "      <td>94.000000</td>\n",
       "      <td>301.000000</td>\n",
       "      <td>1.000000</td>\n",
       "      <td>1.000000</td>\n",
       "      <td>17.000000</td>\n",
       "      <td>0.000000</td>\n",
       "      <td>0.000000</td>\n",
       "      <td>0.000000</td>\n",
       "      <td>29.200000</td>\n",
       "      <td>0.000000</td>\n",
       "      <td>0.000000</td>\n",
       "      <td>5.000000</td>\n",
       "    </tr>\n",
       "    <tr>\n",
       "      <th>25%</th>\n",
       "      <td>1.000000</td>\n",
       "      <td>8.000000</td>\n",
       "      <td>2.000000</td>\n",
       "      <td>-6.000000</td>\n",
       "      <td>124.000000</td>\n",
       "      <td>483.000000</td>\n",
       "      <td>545.000000</td>\n",
       "      <td>542.000000</td>\n",
       "      <td>667.000000</td>\n",
       "      <td>36.000000</td>\n",
       "      <td>46.000000</td>\n",
       "      <td>8.000000</td>\n",
       "      <td>0.000000</td>\n",
       "      <td>29.880000</td>\n",
       "      <td>26.000000</td>\n",
       "      <td>21.000000</td>\n",
       "      <td>16.000000</td>\n",
       "    </tr>\n",
       "    <tr>\n",
       "      <th>50%</th>\n",
       "      <td>11.000000</td>\n",
       "      <td>16.000000</td>\n",
       "      <td>4.000000</td>\n",
       "      <td>-3.000000</td>\n",
       "      <td>188.000000</td>\n",
       "      <td>1029.000000</td>\n",
       "      <td>856.000000</td>\n",
       "      <td>854.000000</td>\n",
       "      <td>918.000000</td>\n",
       "      <td>42.000000</td>\n",
       "      <td>59.000000</td>\n",
       "      <td>12.000000</td>\n",
       "      <td>0.000000</td>\n",
       "      <td>30.110000</td>\n",
       "      <td>30.000000</td>\n",
       "      <td>30.000000</td>\n",
       "      <td>19.000000</td>\n",
       "    </tr>\n",
       "    <tr>\n",
       "      <th>75%</th>\n",
       "      <td>12.000000</td>\n",
       "      <td>24.000000</td>\n",
       "      <td>6.000000</td>\n",
       "      <td>2.000000</td>\n",
       "      <td>365.000000</td>\n",
       "      <td>2248.000000</td>\n",
       "      <td>1095.000000</td>\n",
       "      <td>1097.000000</td>\n",
       "      <td>1193.000000</td>\n",
       "      <td>47.000000</td>\n",
       "      <td>74.000000</td>\n",
       "      <td>16.000000</td>\n",
       "      <td>0.000000</td>\n",
       "      <td>30.320000</td>\n",
       "      <td>37.000000</td>\n",
       "      <td>35.000000</td>\n",
       "      <td>25.000000</td>\n",
       "    </tr>\n",
       "    <tr>\n",
       "      <th>max</th>\n",
       "      <td>12.000000</td>\n",
       "      <td>31.000000</td>\n",
       "      <td>7.000000</td>\n",
       "      <td>1276.000000</td>\n",
       "      <td>697.000000</td>\n",
       "      <td>4983.000000</td>\n",
       "      <td>1439.000000</td>\n",
       "      <td>1440.000000</td>\n",
       "      <td>1439.000000</td>\n",
       "      <td>68.000000</td>\n",
       "      <td>97.000000</td>\n",
       "      <td>36.000000</td>\n",
       "      <td>49.000000</td>\n",
       "      <td>30.750000</td>\n",
       "      <td>55.000000</td>\n",
       "      <td>46.000000</td>\n",
       "      <td>41.000000</td>\n",
       "    </tr>\n",
       "  </tbody>\n",
       "</table>\n",
       "</div>"
      ],
      "text/plain": [
       "              MONTH  DAY_OF_MONTH   DAY_OF_WEEK     DEP_DELAY  \\\n",
       "count  28820.000000  28820.000000  28820.000000  28820.000000   \n",
       "mean       7.894240     16.021096      4.008952      6.374983   \n",
       "std        4.991723      8.750179      1.985230     38.735144   \n",
       "min        1.000000      1.000000      1.000000    -22.000000   \n",
       "25%        1.000000      8.000000      2.000000     -6.000000   \n",
       "50%       11.000000     16.000000      4.000000     -3.000000   \n",
       "75%       12.000000     24.000000      6.000000      2.000000   \n",
       "max       12.000000     31.000000      7.000000   1276.000000   \n",
       "\n",
       "       CRS_ELAPSED_TIME      DISTANCE     CRS_DEP_M    DEP_TIME_M  \\\n",
       "count      28820.000000  28820.000000  28820.000000  28820.000000   \n",
       "mean         225.288203   1267.746079    831.003851    828.934698   \n",
       "std          119.482417    889.343246    299.398525    305.864103   \n",
       "min           57.000000     94.000000    301.000000      1.000000   \n",
       "25%          124.000000    483.000000    545.000000    542.000000   \n",
       "50%          188.000000   1029.000000    856.000000    854.000000   \n",
       "75%          365.000000   2248.000000   1095.000000   1097.000000   \n",
       "max          697.000000   4983.000000   1439.000000   1440.000000   \n",
       "\n",
       "          CRS_ARR_M   Temperature      Humidity    Wind Speed     Wind Gust  \\\n",
       "count  28820.000000  28820.000000  28820.000000  28820.000000  28820.000000   \n",
       "mean     910.874289     41.489833     57.732616     12.367627      5.535323   \n",
       "std      345.411743      8.043533     23.468676      6.259298     11.886457   \n",
       "min        1.000000     17.000000      0.000000      0.000000      0.000000   \n",
       "25%      667.000000     36.000000     46.000000      8.000000      0.000000   \n",
       "50%      918.000000     42.000000     59.000000     12.000000      0.000000   \n",
       "75%     1193.000000     47.000000     74.000000     16.000000      0.000000   \n",
       "max     1439.000000     68.000000     97.000000     36.000000     49.000000   \n",
       "\n",
       "           Pressure       sch_dep       sch_arr      TAXI_OUT  \n",
       "count  28820.000000  28820.000000  28820.000000  28820.000000  \n",
       "mean      30.092433     31.091256     28.432130     20.858570  \n",
       "std        0.296160      9.510359      8.263043      6.851915  \n",
       "min       29.200000      0.000000      0.000000      5.000000  \n",
       "25%       29.880000     26.000000     21.000000     16.000000  \n",
       "50%       30.110000     30.000000     30.000000     19.000000  \n",
       "75%       30.320000     37.000000     35.000000     25.000000  \n",
       "max       30.750000     55.000000     46.000000     41.000000  "
      ]
     },
     "execution_count": 442,
     "metadata": {},
     "output_type": "execute_result"
    }
   ],
   "source": [
    "data.describe()"
   ]
  },
  {
   "cell_type": "code",
   "execution_count": 443,
   "id": "b17aded5",
   "metadata": {},
   "outputs": [
    {
     "data": {
      "text/html": [
       "<div>\n",
       "<style scoped>\n",
       "    .dataframe tbody tr th:only-of-type {\n",
       "        vertical-align: middle;\n",
       "    }\n",
       "\n",
       "    .dataframe tbody tr th {\n",
       "        vertical-align: top;\n",
       "    }\n",
       "\n",
       "    .dataframe thead th {\n",
       "        text-align: right;\n",
       "    }\n",
       "</style>\n",
       "<table border=\"1\" class=\"dataframe\">\n",
       "  <thead>\n",
       "    <tr style=\"text-align: right;\">\n",
       "      <th></th>\n",
       "      <th>MONTH</th>\n",
       "      <th>DAY_OF_MONTH</th>\n",
       "      <th>DAY_OF_WEEK</th>\n",
       "      <th>OP_UNIQUE_CARRIER</th>\n",
       "      <th>TAIL_NUM</th>\n",
       "      <th>DEST</th>\n",
       "      <th>DEP_DELAY</th>\n",
       "      <th>CRS_ELAPSED_TIME</th>\n",
       "      <th>DISTANCE</th>\n",
       "      <th>CRS_DEP_M</th>\n",
       "      <th>...</th>\n",
       "      <th>Dew Point</th>\n",
       "      <th>Humidity</th>\n",
       "      <th>Wind</th>\n",
       "      <th>Wind Speed</th>\n",
       "      <th>Wind Gust</th>\n",
       "      <th>Pressure</th>\n",
       "      <th>Condition</th>\n",
       "      <th>sch_dep</th>\n",
       "      <th>sch_arr</th>\n",
       "      <th>TAXI_OUT</th>\n",
       "    </tr>\n",
       "  </thead>\n",
       "  <tbody>\n",
       "    <tr>\n",
       "      <th>0</th>\n",
       "      <td>11</td>\n",
       "      <td>1</td>\n",
       "      <td>5</td>\n",
       "      <td>B6</td>\n",
       "      <td>N828JB</td>\n",
       "      <td>CHS</td>\n",
       "      <td>-1</td>\n",
       "      <td>124</td>\n",
       "      <td>636</td>\n",
       "      <td>324</td>\n",
       "      <td>...</td>\n",
       "      <td>34</td>\n",
       "      <td>58</td>\n",
       "      <td>W</td>\n",
       "      <td>25</td>\n",
       "      <td>38</td>\n",
       "      <td>29.86</td>\n",
       "      <td>Fair / Windy</td>\n",
       "      <td>9</td>\n",
       "      <td>17</td>\n",
       "      <td>14</td>\n",
       "    </tr>\n",
       "    <tr>\n",
       "      <th>1</th>\n",
       "      <td>11</td>\n",
       "      <td>1</td>\n",
       "      <td>5</td>\n",
       "      <td>B6</td>\n",
       "      <td>N992JB</td>\n",
       "      <td>LAX</td>\n",
       "      <td>-7</td>\n",
       "      <td>371</td>\n",
       "      <td>2475</td>\n",
       "      <td>340</td>\n",
       "      <td>...</td>\n",
       "      <td>34</td>\n",
       "      <td>58</td>\n",
       "      <td>W</td>\n",
       "      <td>25</td>\n",
       "      <td>38</td>\n",
       "      <td>29.86</td>\n",
       "      <td>Fair / Windy</td>\n",
       "      <td>9</td>\n",
       "      <td>17</td>\n",
       "      <td>15</td>\n",
       "    </tr>\n",
       "    <tr>\n",
       "      <th>2</th>\n",
       "      <td>11</td>\n",
       "      <td>1</td>\n",
       "      <td>5</td>\n",
       "      <td>B6</td>\n",
       "      <td>N959JB</td>\n",
       "      <td>FLL</td>\n",
       "      <td>40</td>\n",
       "      <td>181</td>\n",
       "      <td>1069</td>\n",
       "      <td>301</td>\n",
       "      <td>...</td>\n",
       "      <td>34</td>\n",
       "      <td>58</td>\n",
       "      <td>W</td>\n",
       "      <td>25</td>\n",
       "      <td>38</td>\n",
       "      <td>29.86</td>\n",
       "      <td>Fair / Windy</td>\n",
       "      <td>9</td>\n",
       "      <td>17</td>\n",
       "      <td>22</td>\n",
       "    </tr>\n",
       "    <tr>\n",
       "      <th>3</th>\n",
       "      <td>11</td>\n",
       "      <td>1</td>\n",
       "      <td>5</td>\n",
       "      <td>B6</td>\n",
       "      <td>N999JQ</td>\n",
       "      <td>MCO</td>\n",
       "      <td>-2</td>\n",
       "      <td>168</td>\n",
       "      <td>944</td>\n",
       "      <td>345</td>\n",
       "      <td>...</td>\n",
       "      <td>34</td>\n",
       "      <td>58</td>\n",
       "      <td>W</td>\n",
       "      <td>25</td>\n",
       "      <td>38</td>\n",
       "      <td>29.86</td>\n",
       "      <td>Fair / Windy</td>\n",
       "      <td>9</td>\n",
       "      <td>17</td>\n",
       "      <td>12</td>\n",
       "    </tr>\n",
       "    <tr>\n",
       "      <th>4</th>\n",
       "      <td>11</td>\n",
       "      <td>1</td>\n",
       "      <td>5</td>\n",
       "      <td>DL</td>\n",
       "      <td>N880DN</td>\n",
       "      <td>ATL</td>\n",
       "      <td>-4</td>\n",
       "      <td>139</td>\n",
       "      <td>760</td>\n",
       "      <td>360</td>\n",
       "      <td>...</td>\n",
       "      <td>32</td>\n",
       "      <td>58</td>\n",
       "      <td>W</td>\n",
       "      <td>24</td>\n",
       "      <td>35</td>\n",
       "      <td>29.91</td>\n",
       "      <td>Fair / Windy</td>\n",
       "      <td>9</td>\n",
       "      <td>17</td>\n",
       "      <td>13</td>\n",
       "    </tr>\n",
       "  </tbody>\n",
       "</table>\n",
       "<p>5 rows × 23 columns</p>\n",
       "</div>"
      ],
      "text/plain": [
       "   MONTH  DAY_OF_MONTH  DAY_OF_WEEK OP_UNIQUE_CARRIER TAIL_NUM DEST  \\\n",
       "0     11             1            5                B6   N828JB  CHS   \n",
       "1     11             1            5                B6   N992JB  LAX   \n",
       "2     11             1            5                B6   N959JB  FLL   \n",
       "3     11             1            5                B6   N999JQ  MCO   \n",
       "4     11             1            5                DL   N880DN  ATL   \n",
       "\n",
       "   DEP_DELAY  CRS_ELAPSED_TIME  DISTANCE  CRS_DEP_M  ...  Dew Point  Humidity  \\\n",
       "0         -1               124       636        324  ...         34        58   \n",
       "1         -7               371      2475        340  ...         34        58   \n",
       "2         40               181      1069        301  ...         34        58   \n",
       "3         -2               168       944        345  ...         34        58   \n",
       "4         -4               139       760        360  ...         32        58   \n",
       "\n",
       "   Wind Wind Speed  Wind Gust Pressure     Condition  sch_dep  sch_arr  \\\n",
       "0     W         25         38    29.86  Fair / Windy        9       17   \n",
       "1     W         25         38    29.86  Fair / Windy        9       17   \n",
       "2     W         25         38    29.86  Fair / Windy        9       17   \n",
       "3     W         25         38    29.86  Fair / Windy        9       17   \n",
       "4     W         24         35    29.91  Fair / Windy        9       17   \n",
       "\n",
       "  TAXI_OUT  \n",
       "0       14  \n",
       "1       15  \n",
       "2       22  \n",
       "3       12  \n",
       "4       13  \n",
       "\n",
       "[5 rows x 23 columns]"
      ]
     },
     "execution_count": 443,
     "metadata": {},
     "output_type": "execute_result"
    }
   ],
   "source": [
    "data.head()"
   ]
  },
  {
   "cell_type": "code",
   "execution_count": 444,
   "id": "d5941640",
   "metadata": {},
   "outputs": [
    {
     "data": {
      "text/plain": [
       "(28820, 23)"
      ]
     },
     "execution_count": 444,
     "metadata": {},
     "output_type": "execute_result"
    }
   ],
   "source": [
    "data.shape"
   ]
  },
  {
   "cell_type": "code",
   "execution_count": 445,
   "id": "6d92dbc4",
   "metadata": {},
   "outputs": [
    {
     "name": "stdout",
     "output_type": "stream",
     "text": [
      "<class 'pandas.core.frame.DataFrame'>\n",
      "RangeIndex: 28820 entries, 0 to 28819\n",
      "Data columns (total 23 columns):\n",
      " #   Column             Non-Null Count  Dtype  \n",
      "---  ------             --------------  -----  \n",
      " 0   MONTH              28820 non-null  int64  \n",
      " 1   DAY_OF_MONTH       28820 non-null  int64  \n",
      " 2   DAY_OF_WEEK        28820 non-null  int64  \n",
      " 3   OP_UNIQUE_CARRIER  28820 non-null  object \n",
      " 4   TAIL_NUM           28820 non-null  object \n",
      " 5   DEST               28820 non-null  object \n",
      " 6   DEP_DELAY          28820 non-null  int64  \n",
      " 7   CRS_ELAPSED_TIME   28820 non-null  int64  \n",
      " 8   DISTANCE           28820 non-null  int64  \n",
      " 9   CRS_DEP_M          28820 non-null  int64  \n",
      " 10  DEP_TIME_M         28820 non-null  int64  \n",
      " 11  CRS_ARR_M          28820 non-null  int64  \n",
      " 12  Temperature        28820 non-null  int64  \n",
      " 13  Dew Point          28820 non-null  object \n",
      " 14  Humidity           28820 non-null  int64  \n",
      " 15  Wind               28818 non-null  object \n",
      " 16  Wind Speed         28820 non-null  int64  \n",
      " 17  Wind Gust          28820 non-null  int64  \n",
      " 18  Pressure           28820 non-null  float64\n",
      " 19  Condition          28820 non-null  object \n",
      " 20  sch_dep            28820 non-null  int64  \n",
      " 21  sch_arr            28820 non-null  int64  \n",
      " 22  TAXI_OUT           28820 non-null  int64  \n",
      "dtypes: float64(1), int64(16), object(6)\n",
      "memory usage: 5.1+ MB\n"
     ]
    }
   ],
   "source": [
    "data.info()"
   ]
  },
  {
   "cell_type": "code",
   "execution_count": 446,
   "id": "07342959",
   "metadata": {},
   "outputs": [
    {
     "data": {
      "text/plain": [
       "MONTH                0\n",
       "DAY_OF_MONTH         0\n",
       "DAY_OF_WEEK          0\n",
       "OP_UNIQUE_CARRIER    0\n",
       "TAIL_NUM             0\n",
       "DEST                 0\n",
       "DEP_DELAY            0\n",
       "CRS_ELAPSED_TIME     0\n",
       "DISTANCE             0\n",
       "CRS_DEP_M            0\n",
       "DEP_TIME_M           0\n",
       "CRS_ARR_M            0\n",
       "Temperature          0\n",
       "Dew Point            0\n",
       "Humidity             0\n",
       "Wind                 2\n",
       "Wind Speed           0\n",
       "Wind Gust            0\n",
       "Pressure             0\n",
       "Condition            0\n",
       "sch_dep              0\n",
       "sch_arr              0\n",
       "TAXI_OUT             0\n",
       "dtype: int64"
      ]
     },
     "execution_count": 446,
     "metadata": {},
     "output_type": "execute_result"
    }
   ],
   "source": [
    "data.isna().sum()"
   ]
  },
  {
   "cell_type": "code",
   "execution_count": 447,
   "id": "11726c1d",
   "metadata": {},
   "outputs": [
    {
     "data": {
      "text/plain": [
       "RangeIndex(start=0, stop=28820, step=1)"
      ]
     },
     "execution_count": 447,
     "metadata": {},
     "output_type": "execute_result"
    }
   ],
   "source": [
    "data.index"
   ]
  },
  {
   "cell_type": "code",
   "execution_count": 448,
   "id": "85543ae5",
   "metadata": {},
   "outputs": [
    {
     "data": {
      "text/plain": [
       "Index(['MONTH', 'DAY_OF_MONTH', 'DAY_OF_WEEK', 'OP_UNIQUE_CARRIER', 'TAIL_NUM',\n",
       "       'DEST', 'DEP_DELAY', 'CRS_ELAPSED_TIME', 'DISTANCE', 'CRS_DEP_M',\n",
       "       'DEP_TIME_M', 'CRS_ARR_M', 'Temperature', 'Dew Point', 'Humidity',\n",
       "       'Wind', 'Wind Speed', 'Wind Gust', 'Pressure', 'Condition', 'sch_dep',\n",
       "       'sch_arr', 'TAXI_OUT'],\n",
       "      dtype='object')"
      ]
     },
     "execution_count": 448,
     "metadata": {},
     "output_type": "execute_result"
    }
   ],
   "source": [
    "data.columns"
   ]
  },
  {
   "cell_type": "markdown",
   "id": "4ad52010",
   "metadata": {},
   "source": [
    "**list numerical and categorical data**"
   ]
  },
  {
   "cell_type": "code",
   "execution_count": 449,
   "id": "0c08bb41",
   "metadata": {},
   "outputs": [
    {
     "name": "stdout",
     "output_type": "stream",
     "text": [
      "numerical features ['MONTH', 'DAY_OF_MONTH', 'DAY_OF_WEEK', 'DEP_DELAY', 'CRS_ELAPSED_TIME', 'DISTANCE', 'CRS_DEP_M', 'DEP_TIME_M', 'CRS_ARR_M', 'Temperature', 'Humidity', 'Wind Speed', 'Wind Gust', 'Pressure', 'sch_dep', 'sch_arr', 'TAXI_OUT']\n",
      "categorical features ['OP_UNIQUE_CARRIER', 'TAIL_NUM', 'DEST', 'Dew Point', 'Wind', 'Condition']\n"
     ]
    }
   ],
   "source": [
    "numerical_features = list(data.select_dtypes(exclude = ['object']).columns)\n",
    "categorical_features = list(data.select_dtypes('object').columns)\n",
    "print('numerical features', numerical_features)\n",
    "print('categorical features', categorical_features)"
   ]
  },
  {
   "cell_type": "markdown",
   "id": "a84df8c1",
   "metadata": {},
   "source": [
    "**separate features and target variable**"
   ]
  },
  {
   "cell_type": "code",
   "execution_count": 450,
   "id": "f1216047",
   "metadata": {},
   "outputs": [],
   "source": [
    "X = data.drop('TAXI_OUT', axis = 1)\n",
    "y = data['TAXI_OUT']"
   ]
  },
  {
   "cell_type": "markdown",
   "id": "884746e2",
   "metadata": {},
   "source": [
    "## preprocessing categorical data\n",
    "\n",
    "**group OP_UNIQUE_CARRIER to find mean in relation to TAXI_OUT**\n",
    "\n",
    "**use boxplot to visualize outliers and high/low means, and reduce categories in column**\n",
    "\n",
    "Only **B6**, **AA**, and **AS** have either a higher average or more outliers than usual compared to the other airlines. Keep these as separate categories, and group the rest of the airlines as 'Other' in preprocessing."
   ]
  },
  {
   "cell_type": "code",
   "execution_count": 451,
   "id": "bc912686",
   "metadata": {},
   "outputs": [
    {
     "name": "stdout",
     "output_type": "stream",
     "text": [
      "OP_UNIQUE_CARRIER\n",
      "9E    21.184392\n",
      "AA    20.554103\n",
      "AS    25.536454\n",
      "B6    19.559600\n",
      "DL    21.615755\n",
      "HA    20.122222\n",
      "MQ    21.272727\n",
      "OO    20.646302\n",
      "YX    21.707877\n",
      "Name: TAXI_OUT, dtype: float64\n"
     ]
    },
    {
     "data": {
      "image/png": "[encoded data removed]",
      "text/plain": [
       "<Figure size 640x480 with 1 Axes>"
      ]
     },
     "metadata": {},
     "output_type": "display_data"
    }
   ],
   "source": [
    "print(data.groupby('OP_UNIQUE_CARRIER')['TAXI_OUT'].mean())\n",
    "sns.boxplot(data, x = 'OP_UNIQUE_CARRIER', y = 'TAXI_OUT', fliersize = 0.5)\n",
    "plt.show()"
   ]
  },
  {
   "cell_type": "markdown",
   "id": "22ccd13c",
   "metadata": {},
   "source": [
    "**number of unique values for each categorical feature**"
   ]
  },
  {
   "cell_type": "code",
   "execution_count": 452,
   "id": "6efc3396",
   "metadata": {},
   "outputs": [
    {
     "name": "stdout",
     "output_type": "stream",
     "text": [
      "OP_UNIQUE_CARRIER: 9\n",
      "TAIL_NUM: 2092\n",
      "DEST: 65\n",
      "Wind: 18\n",
      "Condition: 25\n"
     ]
    }
   ],
   "source": [
    "print('OP_UNIQUE_CARRIER:', X['OP_UNIQUE_CARRIER'].nunique())\n",
    "print('TAIL_NUM:', X['TAIL_NUM'].nunique())\n",
    "print('DEST:', X['DEST'].nunique())\n",
    "print('Wind:', X['Wind'].nunique())\n",
    "print('Condition:', X['Condition'].nunique())"
   ]
  },
  {
   "cell_type": "markdown",
   "id": "6c18a4b0",
   "metadata": {},
   "source": [
    "**convert string of 'Dew Point' values to integer values**"
   ]
  },
  {
   "cell_type": "code",
   "execution_count": 453,
   "id": "c08ba259",
   "metadata": {},
   "outputs": [],
   "source": [
    "X['Dew Point'] = data['Dew Point'].astype(int)"
   ]
  },
  {
   "cell_type": "markdown",
   "id": "0f47815e",
   "metadata": {},
   "source": [
    "**fill in two missing 'Wind' values**"
   ]
  },
  {
   "cell_type": "code",
   "execution_count": 454,
   "id": "efc518b9",
   "metadata": {},
   "outputs": [],
   "source": [
    "data['Wind'].fillna('NW', inplace = True)"
   ]
  },
  {
   "cell_type": "markdown",
   "id": "6f746373",
   "metadata": {},
   "source": [
    "**encode categorical data**\n",
    "\n",
    "Different types of categorical encoding is applied to each feature depending the circumstances.\n",
    "(i.e., low or high cardinality, ordinal or nominal)"
   ]
  },
  {
   "cell_type": "markdown",
   "id": "6e69647d",
   "metadata": {},
   "source": [
    "**OP_UNIQUE_CARRIER** (low-cardinality and nominal) --- dummy encoding"
   ]
  },
  {
   "cell_type": "code",
   "execution_count": 455,
   "id": "b747a79e",
   "metadata": {},
   "outputs": [],
   "source": [
    "X['OP_UNIQUE_CARRIER'] = data['OP_UNIQUE_CARRIER'].map({'B6':0,'AA':1,'Other':2,'AS':3})\n",
    "X['OP_UNIQUE_CARRIER'] = data.groupby('OP_UNIQUE_CARRIER')['TAXI_OUT'].transform('mean')"
   ]
  },
  {
   "cell_type": "markdown",
   "id": "a0bf57bb",
   "metadata": {},
   "source": [
    "**Wind** (high-cardinality and ordinal) --- ordinal encoding"
   ]
  },
  {
   "cell_type": "code",
   "execution_count": 456,
   "id": "5a3599e9",
   "metadata": {},
   "outputs": [],
   "source": [
    "X['Wind'] = X['Wind'].replace(['CALM','VAR'], 0)\n",
    "X['Wind'] = X['Wind'].replace(['W', 'S', 'E', 'N'], 1)\n",
    "X['Wind'] = X['Wind'].replace(['NW', 'NE', 'SE','SW'], 2)\n",
    "X['Wind'] = X['Wind'].replace(['WNW', 'NNW', 'ENE', 'NNE', 'SSE', 'SSW', 'WSW', 'ESE'], 3)\n",
    "\n",
    "X['Wind'] = data.groupby('Wind')['TAXI_OUT'].transform('mean')"
   ]
  },
  {
   "cell_type": "markdown",
   "id": "564f82d4",
   "metadata": {},
   "source": [
    "**Condition** (high-cardinality and ordinal) --- ordinal encoding\n",
    "\n",
    "**use boxplot to visualize outliers and high/low means, and reduce categories in column**\n",
    "\n",
    "Every condition excluded from below has an unremarkable mean that falls within the most common range, and is considered as 'Other'. Ordinally encode these as 0.\n",
    "\n",
    "Conditions below will be encode from 1 to 8 from lowest to highest mean.\n",
    "\n",
    "\n",
    "high averages: Wintry Mix / Windy, Light Freezing Rain, Light Snow, Snow, Drizzle and Fog, Light Drizzle / Windy\n",
    "\n",
    "low averages: Fog / Windy, Heavy Rain / Windy"
   ]
  },
  {
   "cell_type": "code",
   "execution_count": 457,
   "id": "d1a81c67",
   "metadata": {},
   "outputs": [],
   "source": [
    "# sns.boxplot(data, x = 'TAXI_OUT', y = 'Condition', fliersize = 0.5)\n",
    "# plt.show()"
   ]
  },
  {
   "cell_type": "code",
   "execution_count": 458,
   "id": "736eb8e3",
   "metadata": {},
   "outputs": [],
   "source": [
    "X['Condition'] = data['Condition'].replace(['Fair / Windy', 'Fair', 'Light Rain / Windy', \n",
    "                                                               'Partly Cloudy', 'Mostly Cloudy', 'Cloudy', 'Light Rain', \n",
    "                                                               'Mostly Cloudy / Windy', 'Partly Cloudy / Windy', \n",
    "                                                               'Light Snow / Windy', 'Cloudy / Windy', 'Light Drizzle', \n",
    "                                                               'Rain', 'Heavy Rain', 'Fog', 'Wintry Mix', \n",
    "                                                               'Rain / Windy'], 0)\n",
    "X['Condition'] = data['Condition'].map({'Heavy Rain / Windy':1, 'Fog / Windy':2, 'Drizzle and Fog':3, \n",
    "                                                           'Light Snow':4, 'Light Drizzle / Windy':5, \n",
    "                                                           'Light Freezing Rain':6, 'Snow':7, 'Wintry Mix / Windy':8})\n",
    "\n",
    "X['Condition'] = data.groupby('Condition')['TAXI_OUT'].transform('mean')"
   ]
  },
  {
   "cell_type": "markdown",
   "id": "28b78afa",
   "metadata": {},
   "source": [
    "**TAIL_NUM** (high-cardinality and nominal) --- target encoding"
   ]
  },
  {
   "cell_type": "code",
   "execution_count": 459,
   "id": "0368ace2",
   "metadata": {},
   "outputs": [],
   "source": [
    "X['TAIL_NUM'] = data.groupby('TAIL_NUM')['TAXI_OUT'].transform('mean')"
   ]
  },
  {
   "cell_type": "markdown",
   "id": "ad232758",
   "metadata": {},
   "source": [
    "**DEST** (high-cardinality and nominal) --- target encoding"
   ]
  },
  {
   "cell_type": "code",
   "execution_count": 460,
   "id": "3bbf0854",
   "metadata": {},
   "outputs": [],
   "source": [
    "X['DEST'] = data.groupby('DEST')['TAXI_OUT'].transform('mean')"
   ]
  },
  {
   "cell_type": "markdown",
   "id": "a989f50c",
   "metadata": {},
   "source": [
    "## transformed data\n",
    "\n",
    "Only need to drop 'OP_UNIQUE_CARRIER' since this feature was dummy encoded, and the original object column was left in DataFrame. All other original object columns were transformed directly with ordinal or target encoding through mapping and groupby."
   ]
  },
  {
   "cell_type": "markdown",
   "id": "d7c31132",
   "metadata": {},
   "source": [
    "## Correlation plots\n",
    "\n",
    "**heatmap to visualize correlation between features**"
   ]
  },
  {
   "cell_type": "code",
   "execution_count": 461,
   "id": "334b8770",
   "metadata": {},
   "outputs": [],
   "source": [
    "# #train\n",
    "# plt.figure(figsize = (15,12))\n",
    "# train_corr = X_train.corr().round(3)\n",
    "# train_heatmap = sns.heatmap(train_corr, annot = True, cmap = plt.cm.Reds, annot_kws = {'size':8})\n",
    "# train_heatmap.set_title('Correlation Between Train Features')\n",
    "# plt.show()"
   ]
  },
  {
   "cell_type": "markdown",
   "id": "a0364cae",
   "metadata": {},
   "source": [
    "**correlation between features and target**"
   ]
  },
  {
   "cell_type": "code",
   "execution_count": 462,
   "id": "e12d28ed",
   "metadata": {},
   "outputs": [
    {
     "data": {
      "text/plain": [
       "Text(0.5, 1.0, 'Features Correlating with TAXI_OUT')"
      ]
     },
     "execution_count": 462,
     "metadata": {},
     "output_type": "execute_result"
    },
    {
     "data": {
      "image/png": "[encoded data removed]",
      "text/plain": [
       "<Figure size 800x1200 with 2 Axes>"
      ]
     },
     "metadata": {},
     "output_type": "display_data"
    }
   ],
   "source": [
    "#train\n",
    "data = pd.concat([X,y],  axis = 1)\n",
    "plt.figure(figsize = (8,12))\n",
    "train_heatmap = sns.heatmap(data.corr()[['TAXI_OUT']].sort_values(by = 'TAXI_OUT', ascending = False), \n",
    "                      vmin = -1, vmax = 1, annot = True, cmap = 'BrBG')\n",
    "train_heatmap.set_title('Features Correlating with TAXI_OUT', fontdict = {'fontsize':18}, pad = 16)"
   ]
  },
  {
   "cell_type": "markdown",
   "id": "1b49c404",
   "metadata": {},
   "source": [
    "**distribution of train features and target**"
   ]
  },
  {
   "cell_type": "code",
   "execution_count": 463,
   "id": "45adf8f7",
   "metadata": {},
   "outputs": [
    {
     "data": {
      "text/plain": [
       "Index(['MONTH', 'DAY_OF_MONTH', 'DAY_OF_WEEK', 'OP_UNIQUE_CARRIER', 'TAIL_NUM',\n",
       "       'DEST', 'DEP_DELAY', 'CRS_ELAPSED_TIME', 'DISTANCE', 'CRS_DEP_M',\n",
       "       'DEP_TIME_M', 'CRS_ARR_M', 'Temperature', 'Dew Point', 'Humidity',\n",
       "       'Wind', 'Wind Speed', 'Wind Gust', 'Pressure', 'Condition', 'sch_dep',\n",
       "       'sch_arr'],\n",
       "      dtype='object')"
      ]
     },
     "execution_count": 463,
     "metadata": {},
     "output_type": "execute_result"
    }
   ],
   "source": [
    "X.columns"
   ]
  },
  {
   "cell_type": "markdown",
   "id": "f4593bac",
   "metadata": {},
   "source": [
    "## model fitting"
   ]
  },
  {
   "cell_type": "markdown",
   "id": "de4b700c",
   "metadata": {},
   "source": [
    "**default linear model with no hyperparameter tuning**"
   ]
  },
  {
   "cell_type": "code",
   "execution_count": 464,
   "id": "b13bab1b",
   "metadata": {},
   "outputs": [
    {
     "name": "stdout",
     "output_type": "stream",
     "text": [
      "                            OLS Regression Results                            \n",
      "==============================================================================\n",
      "Dep. Variable:               TAXI_OUT   R-squared:                       0.196\n",
      "Model:                            OLS   Adj. R-squared:                  0.196\n",
      "Method:                 Least Squares   F-statistic:                     319.6\n",
      "Date:                Wed, 29 Nov 2023   Prob (F-statistic):               0.00\n",
      "Time:                        20:04:08   Log-Likelihood:                -93210.\n",
      "No. Observations:               28820   AIC:                         1.865e+05\n",
      "Df Residuals:                   28797   BIC:                         1.867e+05\n",
      "Df Model:                          22                                         \n",
      "Covariance Type:            nonrobust                                         \n",
      "=====================================================================================\n",
      "                        coef    std err          t      P>|t|      [0.025      0.975]\n",
      "-------------------------------------------------------------------------------------\n",
      "const               -10.6712      5.089     -2.097      0.036     -20.645      -0.697\n",
      "MONTH                 0.0301      0.007      4.031      0.000       0.015       0.045\n",
      "DAY_OF_MONTH         -0.0201      0.004     -4.728      0.000      -0.028      -0.012\n",
      "DAY_OF_WEEK           0.0937      0.019      4.983      0.000       0.057       0.130\n",
      "OP_UNIQUE_CARRIER    -0.0665      0.036     -1.830      0.067      -0.138       0.005\n",
      "TAIL_NUM              0.8790      0.019     45.609      0.000       0.841       0.917\n",
      "DEST                  0.6166      0.034     18.235      0.000       0.550       0.683\n",
      "DEP_DELAY             0.0042      0.001      4.430      0.000       0.002       0.006\n",
      "CRS_ELAPSED_TIME     -0.0018      0.003     -0.532      0.595      -0.008       0.005\n",
      "DISTANCE           9.362e-05      0.000      0.213      0.831      -0.001       0.001\n",
      "CRS_DEP_M             0.0005      0.000      1.322      0.186      -0.000       0.001\n",
      "DEP_TIME_M            0.0007      0.000      1.869      0.062    -3.5e-05       0.001\n",
      "CRS_ARR_M            -0.0001      0.000     -0.938      0.348      -0.000       0.000\n",
      "Temperature          -0.1540      0.008    -18.459      0.000      -0.170      -0.138\n",
      "Dew Point             0.0667      0.006     10.715      0.000       0.054       0.079\n",
      "Humidity             -0.0022      0.002     -1.308      0.191      -0.005       0.001\n",
      "Wind                  0.5607      0.050     11.254      0.000       0.463       0.658\n",
      "Wind Speed           -0.0112      0.009     -1.274      0.203      -0.028       0.006\n",
      "Wind Gust             0.0337      0.004      7.648      0.000       0.025       0.042\n",
      "Pressure             -0.8187      0.162     -5.066      0.000      -1.135      -0.502\n",
      "Condition             0.6580      0.034     19.094      0.000       0.590       0.726\n",
      "sch_dep               0.1031      0.004     25.570      0.000       0.095       0.111\n",
      "sch_arr               0.0429      0.005      7.854      0.000       0.032       0.054\n",
      "==============================================================================\n",
      "Omnibus:                     1730.333   Durbin-Watson:                   1.379\n",
      "Prob(Omnibus):                  0.000   Jarque-Bera (JB):             2056.246\n",
      "Skew:                           0.639   Prob(JB):                         0.00\n",
      "Kurtosis:                       3.284   Cond. No.                     2.94e+05\n",
      "==============================================================================\n",
      "\n",
      "Notes:\n",
      "[1] Standard Errors assume that the covariance matrix of the errors is correctly specified.\n",
      "[2] The condition number is large, 2.94e+05. This might indicate that there are\n",
      "strong multicollinearity or other numerical problems.\n"
     ]
    },
    {
     "data": {
      "text/plain": [
       "0.19625098546955821"
      ]
     },
     "execution_count": 464,
     "metadata": {},
     "output_type": "execute_result"
    }
   ],
   "source": [
    "X = sm.add_constant(X)\n",
    "default_model = sm.OLS(y, X).fit()\n",
    "print(default_model.summary())\n",
    "default_model.rsquared"
   ]
  },
  {
   "cell_type": "markdown",
   "id": "884177b8",
   "metadata": {},
   "source": [
    "**feature selection**\n",
    "\n",
    "Reduce model by dropping the following features:\n",
    "\n",
    "NOTE: comment on X_train and X_test for (1), (2), and/or (3) as needed to test model accuracy for the different types below"
   ]
  },
  {
   "cell_type": "code",
   "execution_count": 465,
   "id": "640bb258",
   "metadata": {},
   "outputs": [],
   "source": [
    "# logistic = LogisticRegression(max_iter = 4000)\n",
    "# logistic.fit(X,y)\n",
    "# logistic.score(X,y)"
   ]
  },
  {
   "cell_type": "markdown",
   "id": "68a9d927",
   "metadata": {},
   "source": [
    "(1) everything except 'sch_dep', 'OP_AS', 'OP_B6' since these 3 were >= -/+0.1 in the heatmap comparing correlation between each feature and the target."
   ]
  },
  {
   "cell_type": "code",
   "execution_count": 466,
   "id": "8fd74071",
   "metadata": {},
   "outputs": [],
   "source": [
    "# reducedX = X.drop(['DISTANCE', 'CRS_ARR_M','Wind Speed','CRS_DEP_M','Humidity'], axis = 1)\n",
    "# default_model = sm.OLS(y, reducedX).fit()\n",
    "# print(default_model.summary())\n",
    "# default_model.rsquared"
   ]
  },
  {
   "cell_type": "markdown",
   "id": "db3e1d0f",
   "metadata": {},
   "source": [
    "(2) backward selection: drop 'MONTH','CRS_ELAPSED_TIME','DISTANCE','CRS_DEP_M','OP_AA'\n",
    "    NOTE: keep features as dropped if they decreased model accuracy"
   ]
  },
  {
   "cell_type": "code",
   "execution_count": 467,
   "id": "79fa22f4",
   "metadata": {},
   "outputs": [],
   "source": [
    "# # reducedX = X.drop(['DISTANCE', 'CRS_ARR_M','Wind Speed','CRS_DEP_M','Humidity'], axis = 1)\n",
    "# ridge = Ridge()\n",
    "# ridge.fit(X,y)\n",
    "# ridge.score(X,y)"
   ]
  },
  {
   "cell_type": "markdown",
   "id": "84a12e15",
   "metadata": {},
   "source": [
    "(3) forward selection: drop 'MONTH','Wind','Wind Gust','Pressure','Condition'\n",
    "    NOTE: drop features if they decreased model accuracy"
   ]
  },
  {
   "cell_type": "code",
   "execution_count": 468,
   "id": "e51943d0",
   "metadata": {},
   "outputs": [],
   "source": [
    "# lasso = Lasso()\n",
    "# lasso.fit(X,y)\n",
    "# lasso.score(X,y)"
   ]
  },
  {
   "cell_type": "code",
   "execution_count": 469,
   "id": "12071eff",
   "metadata": {},
   "outputs": [],
   "source": [
    "# reducedX = X.drop(['DISTANCE', 'CRS_ARR_M','Wind Speed','CRS_DEP_M','Humidity'], axis = 1)\n",
    "# ridge = Ridge()\n",
    "# ridge.fit(reducedX,y)\n",
    "# ridge.score(reducedX,y)"
   ]
  },
  {
   "cell_type": "code",
   "execution_count": 470,
   "id": "27bbc807",
   "metadata": {},
   "outputs": [],
   "source": [
    "# reducedX = X.drop(['DISTANCE', 'CRS_ARR_M','Wind Speed','CRS_DEP_M','Humidity'], axis = 1)\n",
    "# lasso = Lasso()\n",
    "# lasso.fit(reducedX,y)\n",
    "# lasso.score(reducedX,y)"
   ]
  },
  {
   "cell_type": "code",
   "execution_count": 471,
   "id": "bf756224",
   "metadata": {},
   "outputs": [
    {
     "data": {
      "text/plain": [
       "0.1863886423268457"
      ]
     },
     "execution_count": 471,
     "metadata": {},
     "output_type": "execute_result"
    }
   ],
   "source": [
    "reg = LassoCV(cv=5, random_state=0).fit(X, y)\n",
    "reg.score(X, y)"
   ]
  },
  {
   "cell_type": "code",
   "execution_count": null,
   "id": "020a3c66",
   "metadata": {},
   "outputs": [],
   "source": [
    "# 2 : 0.24044889435443306\n",
    "# 3 : 0.3742228349740222\n",
    "reducedX = X.drop(['DISTANCE', 'CRS_ARR_M','Wind Speed','CRS_DEP_M','Humidity'], axis = 1)\n",
    "\n",
    "poly = PolynomialFeatures(2)\n",
    "poly_feat = poly.fit_transform(X)\n",
    "poly_model = LinearRegression()\n",
    "poly_model.fit(poly_feat, y)\n",
    "poly_model.score(poly_feat,y)"
   ]
  },
  {
   "cell_type": "markdown",
   "id": "a2f72d12",
   "metadata": {},
   "source": [
    "**OLS Regression**\n",
    "\n",
    "NOTE: only need X_train"
   ]
  },
  {
   "cell_type": "markdown",
   "id": "a5fdbf31",
   "metadata": {},
   "source": [
    "**Linear Regression**\n",
    "\n",
    "NOTE: need to add constant to X_test to maintain same dimensions for both training and test data"
   ]
  },
  {
   "cell_type": "code",
   "execution_count": null,
   "id": "6f0978db",
   "metadata": {},
   "outputs": [],
   "source": [
    "# X_test = sm.add_constant(X_test)\n",
    "# linreg = LinearRegression()\n",
    "# linreg.fit(X_train, y_train)\n",
    "# linreg.predict(X_test)\n",
    "# linreg.score(X_test, y_test) "
   ]
  },
  {
   "cell_type": "markdown",
   "id": "101049a7",
   "metadata": {},
   "source": [
    "**Ridge**"
   ]
  },
  {
   "cell_type": "code",
   "execution_count": null,
   "id": "a4dada3f",
   "metadata": {},
   "outputs": [],
   "source": []
  },
  {
   "cell_type": "markdown",
   "id": "0b181116",
   "metadata": {},
   "source": [
    "**Lasso**"
   ]
  },
  {
   "cell_type": "code",
   "execution_count": null,
   "id": "7bfbeb42",
   "metadata": {},
   "outputs": [],
   "source": []
  }
 ],
 "metadata": {
  "kernelspec": {
   "display_name": "Python 3 (ipykernel)",
   "language": "python",
   "name": "python3"
  },
  "language_info": {
   "codemirror_mode": {
    "name": "ipython",
    "version": 3
   },
   "file_extension": ".py",
   "mimetype": "text/x-python",
   "name": "python",
   "nbconvert_exporter": "python",
   "pygments_lexer": "ipython3",
   "version": "3.11.4"
  }
 },
 "nbformat": 4,
 "nbformat_minor": 5
}
